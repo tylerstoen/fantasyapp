{
 "cells": [
  {
   "cell_type": "code",
   "execution_count": 69,
   "id": "b6084f7a",
   "metadata": {},
   "outputs": [],
   "source": [
    "import numpy as np\n",
    "import pandas as pd\n",
    "import re\n",
    "\n",
    "myrankings = pd.DataFrame(pd.read_csv('myrankings.csv'))\n",
    "myrankings.drop(columns=[\"Team\", \"ESPN Ranking\"], inplace=True)\n",
    "myrankings.dropna(inplace=True)\n",
    "underdog_rankings = pd.DataFrame(pd.read_csv('underdog_rankings.csv'))\n",
    "\n",
    "# Step 1: Merge\n",
    "merged = pd.merge(myrankings, underdog_rankings, on='Player', how='outer', suffixes=('_my', '_underdog'))\n",
    "\n",
    "# Step 2: Create a rank key for sorting\n",
    "# First, create a mapping of player → index in myrankings\n",
    "myrank_index = {player: i for i, player in enumerate(myrankings['Player'])}\n",
    "underdog_index = {player: i for i, player in enumerate(underdog_rankings['Player'])}\n",
    "\n",
    "# Step 3: Apply a combined sort key\n",
    "def custom_sort_key(row):\n",
    "    player = row['Player']\n",
    "    if player in myrank_index:\n",
    "        return myrank_index[player]  # Prioritize myrankings order\n",
    "    else:\n",
    "        return 10000 + underdog_index.get(player, 9999)  # Put the rest after\n",
    "\n",
    "merged['sort_key'] = merged.apply(custom_sort_key, axis=1)\n",
    "\n",
    "# Step 4: Sort and clean\n",
    "merged_sorted = merged.sort_values(by='sort_key').drop(columns='sort_key').reset_index(drop=True)\n",
    "\n",
    "merged_sorted.drop(columns=[\"Rank\", \"ADP_my\", \"Position\", \"My Pos Rank\", \"Id\"], inplace=True)\n",
    "merged_sorted.rename(columns={\"ADP_underdog\": \"ADP\"}, inplace=True)\n",
    "merged_sorted[\"Rank\"] = [i for i in range(1, len(merged_sorted)+1)]\n",
    "\n",
    "merged_sorted = merged_sorted[['Rank', 'Player', 'Pos', 'Finish2024', 'Notes']]\n"
   ]
  },
  {
   "cell_type": "code",
   "execution_count": 70,
   "id": "1877fb39",
   "metadata": {},
   "outputs": [
    {
     "name": "stderr",
     "output_type": "stream",
     "text": [
      "C:\\Users\\tyler\\AppData\\Local\\Temp\\ipykernel_25388\\3084821536.py:17: FutureWarning: Passing literal html to 'read_html' is deprecated and will be removed in a future version. To read from a literal string, wrap it in a 'StringIO' object.\n",
      "  df = pd.read_html(str(table))[0]\n"
     ]
    }
   ],
   "source": [
    "import requests\n",
    "from bs4 import BeautifulSoup\n",
    "import pandas as pd\n",
    "\n",
    "url = \"https://www.fantasypros.com/nfl/adp/half-point-ppr-overall.php\"\n",
    "headers = {\n",
    "    \"User-Agent\": \"Mozilla/5.0\"\n",
    "}\n",
    "\n",
    "response = requests.get(url, headers=headers)\n",
    "soup = BeautifulSoup(response.text, \"html.parser\")\n",
    "\n",
    "# Find the main table\n",
    "table = soup.find(\"table\", {\"id\": \"data\"})\n",
    "\n",
    "# Convert HTML table to DataFrame\n",
    "df = pd.read_html(str(table))[0]\n",
    "\n",
    "# Clean column names if needed\n",
    "df.columns = [col.strip() for col in df.columns]\n",
    "\n",
    "pattern = r\"^(.*?)\\s+([A-Z]{2,3})\\s+\\((\\d+)\\)$\"\n",
    "\n",
    "df[['Player', 'Team', 'Bye']] = df['Player Team (Bye)'].str.extract(pattern)\n",
    "\n",
    "df.drop(columns=['Player Team (Bye)'], inplace=True)\n",
    "\n",
    "df[[\"Player\", \"Team\", \"Bye\"]] = df[[\"Player\", \"Team\", \"Bye\"]].apply(lambda x: x.str.strip())\n",
    "\n",
    "df = df[[\"Player\", \"Team\", \"Bye\", \"AVG\"]]\n",
    "\n",
    "df.to_csv(\"adp.csv\", index=False)\n",
    "\n"
   ]
  },
  {
   "cell_type": "code",
   "execution_count": 71,
   "id": "8664f0c8",
   "metadata": {},
   "outputs": [],
   "source": [
    "\n",
    "def clean_name(name):\n",
    "    name = name.lower()                            # Lowercase\n",
    "    name = name.replace('.', '')                   # Remove dots\n",
    "    name = re.sub(r'\\b(sr|jr|ii|iii)\\b', '', name)  # Remove suffixes\n",
    "    name = re.sub(r'\\s+', ' ', name)               # Collapse multiple spaces\n",
    "    return name.strip()\n",
    "\n",
    "merged_sorted['Player_clean'] = merged_sorted['Player'].apply(clean_name)\n",
    "df['Player_clean'] = df['Player'].astype(str).apply(clean_name)\n",
    "\n",
    "rankings = pd.merge(merged_sorted, df, on='Player_clean', how='inner', suffixes=('_merged', '_df'))\n",
    "rankings.drop(columns=['Player_clean', 'Player_df'], inplace=True)\n",
    "rankings.rename(columns={\"Player_merged\": \"Player\"}, inplace=True)\n",
    "rankings[\"Pos Rank\"] = rankings.groupby('Pos').cumcount() + 1\n",
    "\n",
    "rankings.rename(columns={\"AVG\": \"ADP\"}, inplace=True)\n",
    "rankings = rankings[['Rank', 'Player', 'Pos', 'Team', 'ADP', 'Pos Rank', 'Bye', 'Finish2024', 'Notes']]\n",
    "\n",
    "rankings['sort_key'] = rankings.apply(\n",
    "     lambda row: (row['Rank'], row['ADP']) if pd.notna(row['ADP']) else (10000, row['Rank']),\n",
    "            axis=1\n",
    ")\n",
    "\n",
    "# Step 4: Sort and clean\n",
    "rankings_sorted=rankings.sort_values(by='sort_key').drop(columns='sort_key').reset_index(drop=True)\n",
    "\n",
    "rankings_sorted.to_csv('updated_rankings.csv', index=False)\n"
   ]
  }
 ],
 "metadata": {
  "kernelspec": {
   "display_name": "Python 3",
   "language": "python",
   "name": "python3"
  },
  "language_info": {
   "codemirror_mode": {
    "name": "ipython",
    "version": 3
   },
   "file_extension": ".py",
   "mimetype": "text/x-python",
   "name": "python",
   "nbconvert_exporter": "python",
   "pygments_lexer": "ipython3",
   "version": "3.13.5"
  }
 },
 "nbformat": 4,
 "nbformat_minor": 5
}
