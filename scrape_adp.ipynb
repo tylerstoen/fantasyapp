{
 "cells": [
  {
   "cell_type": "code",
   "execution_count": 5,
   "id": "c29d5744",
   "metadata": {},
   "outputs": [
    {
     "name": "stderr",
     "output_type": "stream",
     "text": [
      "C:\\Users\\tyler\\AppData\\Local\\Temp\\ipykernel_22768\\968303776.py:17: FutureWarning: Passing literal html to 'read_html' is deprecated and will be removed in a future version. To read from a literal string, wrap it in a 'StringIO' object.\n",
      "  df = pd.read_html(str(table))[0]\n"
     ]
    }
   ],
   "source": [
    "import requests\n",
    "from bs4 import BeautifulSoup\n",
    "import pandas as pd\n",
    "\n",
    "url = \"https://www.fantasypros.com/nfl/adp/half-point-ppr-overall.php\"\n",
    "headers = {\n",
    "    \"User-Agent\": \"Mozilla/5.0\"\n",
    "}\n",
    "\n",
    "response = requests.get(url, headers=headers)\n",
    "soup = BeautifulSoup(response.text, \"html.parser\")\n",
    "\n",
    "# Find the main table\n",
    "table = soup.find(\"table\", {\"id\": \"data\"})\n",
    "\n",
    "# Convert HTML table to DataFrame\n",
    "df = pd.read_html(str(table))[0]\n",
    "\n",
    "# Clean column names if needed\n",
    "df.columns = [col.strip() for col in df.columns]\n",
    "\n",
    "pattern = r\"^(.*?)\\s+([A-Z]{2,3})\\s+\\((\\d+)\\)$\"\n",
    "\n",
    "df[['Player', 'Team', 'Bye']] = df['Player Team (Bye)'].str.extract(pattern)\n",
    "\n",
    "df.drop(columns=['Player Team (Bye)'], inplace=True)\n",
    "\n",
    "df[[\"Player\", \"Team\", \"Bye\"]] = df[[\"Player\", \"Team\", \"Bye\"]].apply(lambda x: x.str.strip())\n",
    "\n",
    "df = df[[\"Player\", \"Bye\", \"AVG\"]]\n",
    "\n",
    "df.to_csv(\"adp.csv\", index=False)\n",
    "\n"
   ]
  }
 ],
 "metadata": {
  "kernelspec": {
   "display_name": "Python 3",
   "language": "python",
   "name": "python3"
  },
  "language_info": {
   "codemirror_mode": {
    "name": "ipython",
    "version": 3
   },
   "file_extension": ".py",
   "mimetype": "text/x-python",
   "name": "python",
   "nbconvert_exporter": "python",
   "pygments_lexer": "ipython3",
   "version": "3.13.5"
  }
 },
 "nbformat": 4,
 "nbformat_minor": 5
}
